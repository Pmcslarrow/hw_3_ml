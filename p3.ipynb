{
 "cells": [
  {
   "cell_type": "code",
   "execution_count": null,
   "metadata": {},
   "outputs": [],
   "source": [
    "import numpy as np\n",
    "import pandas as pd\n",
    "from sklearn.preprocessing import StandardScaler\n",
    "import matplotlib.pyplot as plt \n",
    "\n",
    "np.random.seed(42)"
   ]
  },
  {
   "cell_type": "code",
   "execution_count": null,
   "metadata": {},
   "outputs": [],
   "source": [
    "def softmax(logits):\n",
    "    exp_logits = np.exp(logits - np.max(logits, axis=1, keepdims=True))  \n",
    "    return exp_logits / np.sum(exp_logits, axis=1, keepdims=True)\n",
    "\n",
    "def mcce(softmax_logits, labels):\n",
    "    return - np.sum(labels * np.log(softmax_logits))\n",
    "\n",
    "def sigmoid(unactivated):\n",
    "    return 1 / (1 + np.exp(-unactivated))\n",
    "\n",
    "def sigmoid_derivative(activated):\n",
    "    return sigmoid(activated) * (1 - sigmoid(activated))\n",
    "\n",
    "def relu(unactivated):\n",
    "    return np.maximum(0, unactivated)\n",
    "\n",
    "def relu_derivative(activated):\n",
    "    return (activated > 0).astype(float)"
   ]
  },
  {
   "cell_type": "code",
   "execution_count": null,
   "metadata": {},
   "outputs": [],
   "source": [
    "np.ones((2, 10))"
   ]
  },
  {
   "cell_type": "code",
   "execution_count": null,
   "metadata": {},
   "outputs": [],
   "source": [
    "np.ones((32, 2))"
   ]
  },
  {
   "cell_type": "code",
   "execution_count": null,
   "metadata": {},
   "outputs": [],
   "source": [
    "((np.ones((32, 2)) * 1) @ (np.ones((2, 32)) * 2)).shape"
   ]
  },
  {
   "cell_type": "code",
   "execution_count": null,
   "metadata": {},
   "outputs": [],
   "source": [
    "((np.ones((32, 2)) * 1) @ (np.ones((2, 32)) * 2)) + np.ones(32)"
   ]
  },
  {
   "cell_type": "code",
   "execution_count": null,
   "metadata": {},
   "outputs": [],
   "source": [
    "arr = [[-2, 3, 2]]\n",
    "sm = softmax(arr)\n",
    "sm, sum(sm[0]), mcce(sm, [[0, 0, 1]]), mcce(sm, [[1, 0, 0]]), mcce(sm, [[0, 1, 0]])"
   ]
  },
  {
   "cell_type": "code",
   "execution_count": null,
   "metadata": {},
   "outputs": [],
   "source": [
    "class model:\n",
    "    def __init__(self, input_size=2, hidden_size=64, output_size=2):\n",
    "        shape_i_h = (input_size, hidden_size)\n",
    "        shape_h_o = (hidden_size, output_size)\n",
    "\n",
    "        self.w_i_h = np.random.normal(loc=0.0, scale=1.0, size=shape_i_h) # randomly sample unique weights from a gaussian dist with mean 0 and std 1\n",
    "        self.w_h_o = np.random.normal(loc=0.0, scale=1.0, size=shape_h_o) # randomly sample unique weights from a gaussian dist with mean 0 and std 1\n",
    "\n",
    "        self.b_i_h = np.zeros(shape=(1, hidden_size)) # set biases to zero\n",
    "        self.b_h_o = np.zeros(shape=(1, output_size)) # set biases to zero\n",
    "\n",
    "        self.num_params = input_size * hidden_size + hidden_size * output_size + hidden_size + output_size\n",
    "\n",
    "    def forward(self, features, train=False):\n",
    "        forward_results = {}\n",
    "\n",
    "        forward_results['features'] = features\n",
    "        i_h = features @ self.w_i_h\n",
    "        forward_results['i_h'] = i_h\n",
    "        i_h_b = i_h + self.b_i_h\n",
    "        forward_results['i_h_b'] = i_h_b\n",
    "        a_i_h_b = relu(i_h_b)\n",
    "        forward_results['a_i_h_b'] = a_i_h_b        \n",
    "\n",
    "        h_o = a_i_h_b @ self.w_h_o\n",
    "        forward_results['h_o'] = h_o        \n",
    "        h_o_b = h_o + self.b_h_o\n",
    "        forward_results['h_o_b'] = h_o_b\n",
    "        a_h_o_b = softmax(h_o_b)\n",
    "        forward_results['a_h_o_b'] = a_h_o_b\n",
    "\n",
    "        if train:\n",
    "            return a_h_o_b, forward_results\n",
    "        return a_h_o_b\n",
    "\n",
    "    def backward(self, forward_results, labels):\n",
    "        gradients = {}\n",
    "        \n",
    "        probs = forward_results['a_h_o_b']\n",
    "        \n",
    "        dL_dh_o_b = probs - labels\n",
    "        \n",
    "        a_i_h_b = forward_results['a_i_h_b']\n",
    "        gradients['w_h_o'] = a_i_h_b.T @ dL_dh_o_b\n",
    "        gradients['b_h_o'] = np.sum(dL_dh_o_b, axis=0, keepdims=True)\n",
    "\n",
    "        dL_da_i_h_b = dL_dh_o_b @ self.w_h_o.T \n",
    "        dL_di_h_b = dL_da_i_h_b * relu_derivative(forward_results['a_i_h_b'])\n",
    "\n",
    "        gradients['w_i_h'] = forward_results['features'].T @ dL_di_h_b \n",
    "        gradients['b_i_h'] = np.sum(dL_di_h_b, axis=0, keepdims=True)\n",
    "\n",
    "        return gradients\n",
    "        \n",
    "    def update_weights(self, gradients, learning_rate):\n",
    "        self.w_h_o -= (learning_rate * gradients['w_h_o'])\n",
    "        self.b_h_o -= (learning_rate * gradients['b_h_o'])\n",
    "        self.w_i_h -= (learning_rate * gradients['w_i_h'])\n",
    "        self.b_i_h -= (learning_rate * gradients['b_i_h'])\n",
    "\n",
    "    def train(self, features, labels, valid_features, valid_labels, num_epochs, learning_rate):\n",
    "        train_loss = []\n",
    "        valid_loss = []\n",
    "        \n",
    "        for i in range(num_epochs):\n",
    "            probs, forward_results = self.forward(features, train=True)\n",
    "            \n",
    "            gradients = self.backward(forward_results, labels)\n",
    "            # for k, v in gradients.items():\n",
    "            #     print(f'{k}: {v.shape}')\n",
    "            \n",
    "            self.update_weights(gradients, learning_rate)\n",
    "            \n",
    "            loss = mcce(forward_results['a_h_o_b'], labels)\n",
    "            train_loss.append(loss)\n",
    "\n",
    "            probs, forward_results = self.forward(valid_features, train=True)\n",
    "                                    \n",
    "            loss = mcce(forward_results['a_h_o_b'], valid_labels)\n",
    "            valid_loss.append(loss)\n",
    "        \n",
    "        return train_loss, valid_loss\n",
    "    \n",
    "    def predict(self, features):\n",
    "        y_predicted = self.forward(features)\n",
    "        predicted_labels = np.array([np.argmax(y_p) for y_p in y_predicted])\n",
    "        return predicted_labels\n"
   ]
  },
  {
   "cell_type": "code",
   "execution_count": null,
   "metadata": {},
   "outputs": [],
   "source": [
    "i = np.ones((1, 2))\n",
    "i_multiple = np.ones((16, 2))"
   ]
  },
  {
   "cell_type": "code",
   "execution_count": null,
   "metadata": {},
   "outputs": [],
   "source": [
    "m = model()\n",
    "m.forward(i), m.forward(i_multiple).shape"
   ]
  },
  {
   "cell_type": "code",
   "execution_count": null,
   "metadata": {},
   "outputs": [],
   "source": [
    "_, results = m.forward(i_multiple, True)\n",
    "m.backward(results, np.ones((16, 2)))"
   ]
  },
  {
   "cell_type": "code",
   "execution_count": null,
   "metadata": {},
   "outputs": [],
   "source": [
    "# csv_file_prefix = 'spiral'\n",
    "# csv_file_prefix = 'two_gaussians'\n",
    "csv_file_prefix = 'xor'\n",
    "# csv_file_prefix = 'center_surround'"
   ]
  },
  {
   "cell_type": "code",
   "execution_count": null,
   "metadata": {},
   "outputs": [],
   "source": [
    "def z_score(df, scaler):\n",
    "    features = df.iloc[:, 1:]\n",
    "    labels = df.iloc[:, 0]\n",
    "\n",
    "    features = scaler.transform(features)\n",
    "    num_labels = len(np.unique(labels))\n",
    "    labels = np.array([[1 if int(label) == i else 0 for i in range(num_labels)] for label in labels])\n",
    "    return features, labels"
   ]
  },
  {
   "cell_type": "code",
   "execution_count": null,
   "metadata": {},
   "outputs": [],
   "source": [
    "scaler = StandardScaler()  # z-score all input features\n",
    "\n",
    "train_df = pd.read_csv(f'{csv_file_prefix}_train.csv')\n",
    "\n",
    "train_features = train_df.iloc[:, 1:]\n",
    "features = scaler.fit(train_features)\n",
    "\n",
    "valid_df = pd.read_csv(f'{csv_file_prefix}_valid.csv')\n",
    "test_df = pd.read_csv(f'{csv_file_prefix}_test.csv')\n",
    "\n",
    "train_features, train_labels = z_score(train_df, scaler)\n",
    "valid_features, valid_labels = z_score(valid_df, scaler)\n",
    "test_features, test_labels = z_score(test_df, scaler)"
   ]
  },
  {
   "cell_type": "code",
   "execution_count": null,
   "metadata": {},
   "outputs": [],
   "source": [
    "train_features"
   ]
  },
  {
   "cell_type": "code",
   "execution_count": null,
   "metadata": {},
   "outputs": [],
   "source": [
    "train_labels"
   ]
  },
  {
   "cell_type": "code",
   "execution_count": null,
   "metadata": {},
   "outputs": [],
   "source": [
    "m = model(input_size=2, hidden_size=9, output_size=2)\n",
    "\n",
    "num_epochs = 1000\n",
    "learning_rate = 0.001\n",
    "train_loss, valid_loss = m.train(train_features, train_labels, valid_features, valid_labels, num_epochs, learning_rate)"
   ]
  },
  {
   "cell_type": "code",
   "execution_count": null,
   "metadata": {},
   "outputs": [],
   "source": [
    "test_results = m.predict(test_features)\n",
    "np.sum([1 for i, t_l in enumerate(test_labels) if np.argmax(t_l) == test_results[i]]) / len(test_labels)"
   ]
  },
  {
   "cell_type": "code",
   "execution_count": null,
   "metadata": {},
   "outputs": [],
   "source": [
    "plt.plot(range(1, num_epochs + 1), train_loss, label='train loss')\n",
    "plt.plot(range(1, num_epochs + 1), valid_loss, label='valid loss')\n",
    "plt.legend()\n",
    "\n",
    "plt.show()"
   ]
  },
  {
   "cell_type": "code",
   "execution_count": null,
   "metadata": {},
   "outputs": [],
   "source": [
    "x_min, x_max = train_features[:, 0].min() - 1, train_features[:, 0].max() + 1\n",
    "y_min, y_max = train_features[:, 1].min() - 1, train_features[:, 1].max() + 1\n",
    "xx, yy = np.meshgrid(np.linspace(x_min, x_max, 100), np.linspace(y_min, y_max, 100))\n",
    "\n",
    "# Predict labels for all points in the meshgrid\n",
    "grid_points = np.c_[xx.ravel(), yy.ravel()]\n",
    "Z = m.predict(grid_points)\n",
    "Z = Z.reshape(xx.shape)\n",
    "\n",
    "# Plot decision boundary\n",
    "plt.contourf(xx, yy, Z, alpha=0.5, cmap='viridis')\n",
    "\n",
    "# Scatter plot of training points\n",
    "plt.scatter(train_features[:, 0], train_features[:, 1], c=np.array([np.argmax(l) for l in train_labels]), edgecolor='k', cmap='coolwarm', marker='o')\n",
    "\n",
    "plt.title(\"Decision Boundary with Training Data Points\")\n",
    "plt.xlabel(\"Feature 1\")\n",
    "plt.ylabel(\"Feature 2\")\n",
    "plt.show()"
   ]
  },
  {
   "cell_type": "code",
   "execution_count": null,
   "metadata": {},
   "outputs": [],
   "source": [
    "m.w_i_h"
   ]
  },
  {
   "cell_type": "code",
   "execution_count": null,
   "metadata": {},
   "outputs": [],
   "source": [
    "m.b_i_h"
   ]
  }
 ],
 "metadata": {
  "kernelspec": {
   "display_name": "hw_3_ml.env",
   "language": "python",
   "name": "python3"
  },
  "language_info": {
   "codemirror_mode": {
    "name": "ipython",
    "version": 3
   },
   "file_extension": ".py",
   "mimetype": "text/x-python",
   "name": "python",
   "nbconvert_exporter": "python",
   "pygments_lexer": "ipython3",
   "version": "3.11.8"
  }
 },
 "nbformat": 4,
 "nbformat_minor": 2
}
