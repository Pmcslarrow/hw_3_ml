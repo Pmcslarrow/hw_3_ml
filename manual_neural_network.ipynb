{
 "cells": [
  {
   "cell_type": "markdown",
   "metadata": {},
   "source": [
    "# Task\n",
    "\n",
    "### Manual Gradients and Updates (6.0 points): \n",
    "\n",
    "Repeat either Step 1 or Step 2 without using a deep learning platform.  \n",
    "\n",
    "You can use symbolic differentiation tools like WolramAlpha, Mathematica, \n",
    "etc., to compute gradients. You can also calculate the gradients by hand.  You may want to calculate, \n",
    "code and verify gradients for individual components of your model and use the chain rule to build \n",
    "the gradients for specific weights and biases.  You may also want to consider using for loops \n",
    "instead of matrix algebra in some parts of your code to avoid the ambiguity of broadcasting.  You \n",
    "may find it helpful to “calibrate” intermediate quantities in your implementation against your \n",
    "PyTorch implementation from Step 1 or 2."
   ]
  },
  {
   "cell_type": "markdown",
   "metadata": {},
   "source": [
    "![Rough Sketch of Neural Network](./drawing.jpeg)"
   ]
  }
 ],
 "metadata": {
  "kernelspec": {
   "display_name": "Python 3",
   "language": "python",
   "name": "python3"
  },
  "language_info": {
   "codemirror_mode": {
    "name": "ipython",
    "version": 3
   },
   "file_extension": ".py",
   "mimetype": "text/x-python",
   "name": "python",
   "nbconvert_exporter": "python",
   "pygments_lexer": "ipython3",
   "version": "3.9.6"
  }
 },
 "nbformat": 4,
 "nbformat_minor": 2
}
