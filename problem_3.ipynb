{
 "cells": [
  {
   "cell_type": "code",
   "execution_count": 56,
   "metadata": {},
   "outputs": [],
   "source": [
    "from sklearn.preprocessing import StandardScaler\n",
    "import torch\n",
    "import torch.nn as nn\n",
    "from torch.utils.data import DataLoader\n",
    "\n",
    "import matplotlib\n",
    "import matplotlib.pyplot as plt\n",
    "import numpy as np\n",
    "import pandas as pd\n",
    "import sys\n",
    "import os\n",
    "from sklearn.preprocessing import MinMaxScaler\n",
    "\n",
    "import warnings\n",
    "warnings.filterwarnings('ignore')\n",
    "\n",
    "np.random.seed(42)"
   ]
  },
  {
   "cell_type": "code",
   "execution_count": 57,
   "metadata": {},
   "outputs": [
    {
     "name": "stdout",
     "output_type": "stream",
     "text": [
      "[[-1.36846388  1.54362905]\n",
      " [ 0.13476095 -0.35808876]\n",
      " [-1.17397245  2.0546884 ]\n",
      " [ 0.12212715 -0.3837286 ]\n",
      " [-0.08095132 -1.53810042]]\n",
      "[1 0 1 0 1]\n"
     ]
    }
   ],
   "source": [
    "def convert_df_to_numpy(df, scaler):\n",
    "  y = df['label'].to_numpy().astype(np.int32)\n",
    "  X = scaler.transform(df.drop(columns=['label']).to_numpy())\n",
    "  return X, y\n",
    "\n",
    "center_surround_train_df = pd.read_csv(\"./center_surround_train.csv\")\n",
    "center_surround_test_df = pd.read_csv(\"./center_surround_test.csv\")\n",
    "center_surround_valid_df = pd.read_csv(\"./center_surround_valid.csv\")\n",
    "\n",
    "center_surround_scaler = StandardScaler()\n",
    "center_surround_scaler.fit(center_surround_train_df.drop(columns=['label']).to_numpy())\n",
    "\n",
    "center_surround_train_data = convert_df_to_numpy(center_surround_train_df, center_surround_scaler)\n",
    "center_surround_test_data = convert_df_to_numpy(center_surround_test_df, center_surround_scaler)\n",
    "center_surround_valid_data = convert_df_to_numpy(center_surround_valid_df, center_surround_scaler)\n",
    "\n",
    "print(center_surround_train_data[0][:5])\n",
    "print(center_surround_train_data[1][:5])"
   ]
  },
  {
   "cell_type": "code",
   "execution_count": 58,
   "metadata": {},
   "outputs": [],
   "source": [
    "INPUT_DIM = 2\n",
    "OUTPUT_DIM = 2\n",
    "HIDDEN_NODES = 4\n",
    "LEARNING_RATE = 0.01"
   ]
  },
  {
   "cell_type": "code",
   "execution_count": 63,
   "metadata": {},
   "outputs": [
    {
     "name": "stdout",
     "output_type": "stream",
     "text": [
      "**Entered the weight and biases initialization**\n",
      "\n",
      "**Entered the forward pass**\n",
      "[[0.76182775 0.71978382]\n",
      " [0.69546485 0.69318456]\n",
      " [0.78956595 0.74231014]]\n"
     ]
    },
    {
     "data": {
      "text/plain": [
       "<__main__.FeedForwardNeuralNetwork at 0x161006940>"
      ]
     },
     "execution_count": 63,
     "metadata": {},
     "output_type": "execute_result"
    }
   ],
   "source": [
    "class FeedForwardNeuralNetwork:\n",
    "  def __init__(self, train_data, test_data, valid_data, input_dim, output_dim, hidden_nodes, learning_rate, hidden_activation=\"sigmoid\", output_activation='sigmoid'):\n",
    "    self.train_data = train_data\n",
    "    self.test_data = test_data\n",
    "    self.valid_data = valid_data\n",
    "    self.input_dim = input_dim\n",
    "    self.output_dim = output_dim\n",
    "    self.hidden_nodes = hidden_nodes\n",
    "    self.learning_rate = learning_rate\n",
    "    self.hidden_activation = self.sigmoid if hidden_activation == \"sigmoid\" else None \n",
    "    self.output_activation = self.sigmoid if output_activation == \"sigmoid\" else None \n",
    "\n",
    "    self.W_input_hidden = None\n",
    "    self.W_hidden_output = None\n",
    "    self.B_input_hidden = None\n",
    "    self.B_hidden_output = None\n",
    "\n",
    "    self.initialize_weights_and_biases()\n",
    "    self.forward()\n",
    "  \n",
    "  def sigmoid(self, x):\n",
    "    return 1/(1 + np.exp(-x))\n",
    "\n",
    "  def initialize_weights_and_biases(self):\n",
    "    \"\"\"\n",
    "    Initialize weights and biases for input-hidden and hidden-output layers.\n",
    "\n",
    "    Shapes:\n",
    "      Input -> Hidden:  (2, 4) weights, (4,) biases\n",
    "      Hidden -> Output: (4, 2) weights, (2,) biases\n",
    "    \"\"\"\n",
    "    print(\"**Entered the weight and biases initialization**\")\n",
    "    self.W_input_hidden = np.random.random((self.input_dim, self.hidden_nodes))\n",
    "    self.B_input_hidden = np.zeros((self.hidden_nodes,))\n",
    "\n",
    "    self.W_hidden_output = np.random.random((self.hidden_nodes, self.output_dim))\n",
    "    self.B_hidden_output = np.zeros((self.output_dim))\n",
    "\n",
    "    return\n",
    "\n",
    "  def forward(self):\n",
    "    \"\"\"\n",
    "    Perform forward pass through hidden and output layers with activations.\n",
    "\n",
    "    Output (first 3 points):\n",
    "      [[0.67646572 0.6672606 ]\n",
    "      [0.64835416 0.62535679]\n",
    "      [0.71371663 0.69567189]]\n",
    "    \"\"\"\n",
    "    \n",
    "    print(\"\\n**Entered the forward pass**\")\n",
    "\n",
    "    # Input to hidden layer with activation \n",
    "    train_features = self.train_data[0]\n",
    "    hidden_logits = np.dot(train_features, self.W_input_hidden) + self.B_input_hidden\n",
    "    hidden_output = self.hidden_activation(hidden_logits)\n",
    "    \n",
    "    # The output from the first layer (hidden_output) is now the input into the next layer\n",
    "    output_logits = np.dot(hidden_output, self.W_hidden_output) + self.B_hidden_output\n",
    "    output = self.output_activation(output_logits)\n",
    "\n",
    "    print(output[:3])\n",
    "    return output\n",
    "    \n",
    "\n",
    "FeedForwardNeuralNetwork(\n",
    "  train_data=center_surround_train_data,\n",
    "  test_data=center_surround_test_data,\n",
    "  valid_data=center_surround_valid_data,\n",
    "  input_dim=INPUT_DIM,\n",
    "  output_dim=OUTPUT_DIM,\n",
    "  hidden_nodes=HIDDEN_NODES,\n",
    "  learning_rate=LEARNING_RATE\n",
    ")"
   ]
  },
  {
   "cell_type": "code",
   "execution_count": null,
   "metadata": {},
   "outputs": [],
   "source": []
  }
 ],
 "metadata": {
  "kernelspec": {
   "display_name": "Python 3",
   "language": "python",
   "name": "python3"
  },
  "language_info": {
   "codemirror_mode": {
    "name": "ipython",
    "version": 3
   },
   "file_extension": ".py",
   "mimetype": "text/x-python",
   "name": "python",
   "nbconvert_exporter": "python",
   "pygments_lexer": "ipython3",
   "version": "3.9.6"
  }
 },
 "nbformat": 4,
 "nbformat_minor": 2
}
