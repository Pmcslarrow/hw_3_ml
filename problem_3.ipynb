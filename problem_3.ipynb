{
 "cells": [
  {
   "cell_type": "code",
   "execution_count": null,
   "metadata": {},
   "outputs": [],
   "source": [
    "from sklearn.preprocessing import StandardScaler\n",
    "import torch\n",
    "import torch.nn as nn\n",
    "from torch.utils.data import DataLoader\n",
    "\n",
    "import matplotlib\n",
    "import matplotlib.pyplot as plt\n",
    "import numpy as np\n",
    "import pandas as pd\n",
    "import sys\n",
    "import os\n",
    "from sklearn.preprocessing import MinMaxScaler\n",
    "\n",
    "import warnings\n",
    "warnings.filterwarnings('ignore')\n",
    "\n",
    "np.random.seed(42)"
   ]
  },
  {
   "cell_type": "code",
   "execution_count": null,
   "metadata": {},
   "outputs": [],
   "source": [
    "def convert_df_to_numpy(df, scaler):\n",
    "  y = df['label'].to_numpy().astype(np.int32)\n",
    "  X = scaler.transform(df.drop(columns=['label']).to_numpy())\n",
    "  return X, y\n",
    "\n",
    "center_surround_train_df = pd.read_csv(\"./center_surround_train.csv\")\n",
    "center_surround_test_df = pd.read_csv(\"./center_surround_test.csv\")\n",
    "center_surround_valid_df = pd.read_csv(\"./center_surround_valid.csv\")\n",
    "\n",
    "center_surround_scaler = StandardScaler()\n",
    "center_surround_scaler.fit(center_surround_train_df.drop(columns=['label']).to_numpy())\n",
    "\n",
    "center_surround_train_data = convert_df_to_numpy(center_surround_train_df, center_surround_scaler)\n",
    "center_surround_test_data = convert_df_to_numpy(center_surround_test_df, center_surround_scaler)\n",
    "center_surround_valid_data = convert_df_to_numpy(center_surround_valid_df, center_surround_scaler)\n",
    "\n",
    "print(center_surround_train_data[0][:5])\n",
    "print(center_surround_train_data[1][:5])"
   ]
  },
  {
   "cell_type": "code",
   "execution_count": null,
   "metadata": {},
   "outputs": [],
   "source": [
    "INPUT_DIM = 2\n",
    "OUTPUT_DIM = 2\n",
    "HIDDEN_NODES = 4\n",
    "LEARNING_RATE = 0.01"
   ]
  },
  {
   "cell_type": "code",
   "execution_count": 44,
   "metadata": {},
   "outputs": [
    {
     "name": "stdout",
     "output_type": "stream",
     "text": [
      "Input layer --> Hidden Layer\n",
      "(2, 4) (4,)\n",
      "[[0.80007097 0.20403563 0.55508495 0.7330713 ]\n",
      " [0.61598545 0.18802473 0.35538457 0.78379178]]\n",
      "\n",
      "Hidden Layer --> Output Layer\n",
      "(4, 2) (2,)\n",
      "[[0.55422651 0.00522961]\n",
      " [0.76099076 0.03531135]\n",
      " [0.74573378 0.20248056]\n",
      " [0.95807348 0.36794075]]\n"
     ]
    },
    {
     "data": {
      "text/plain": [
       "<__main__.FeedForwardNeuralNetwork at 0x160df7910>"
      ]
     },
     "execution_count": 44,
     "metadata": {},
     "output_type": "execute_result"
    }
   ],
   "source": [
    "class FeedForwardNeuralNetwork:\n",
    "  def __init__(self, train_data, test_data, valid_data, input_dim, output_dim, hidden_nodes, learning_rate):\n",
    "    self.train_data = train_data\n",
    "    self.test_data = test_data\n",
    "    self.valid_data = valid_data\n",
    "    self.input_dim = input_dim\n",
    "    self.output_dim = output_dim\n",
    "    self.hidden_nodes = hidden_nodes\n",
    "    self.learning_rate = learning_rate\n",
    "\n",
    "    self.initialize_weights_and_biases()\n",
    "\n",
    "  def initialize_weights_and_biases(self):\n",
    "    \"\"\"\n",
    "    Initialize the weights and biases between the \n",
    "    input and hidden layer and then the hidden layer\n",
    "    to the output layer. \n",
    "\n",
    "    The rows correspond to the number of input dimensions\n",
    "    and the columns correspond to the number of output dimensions.\n",
    "\n",
    "    Example:\n",
    "    (2, 4) between the input layer and the output layer\n",
    "    refers to 2 dimensions of [x1, x2] from the input layer row-wise,\n",
    "    and 4 refers to the number of hidden nodes in the next layer column-wise.\n",
    "    \"\"\"    \n",
    "    self.W_input_hidden = np.random.random((self.input_dim, self.hidden_nodes))\n",
    "    self.B_input_hidden = np.zeros((self.hidden_nodes,))\n",
    "\n",
    "    self.W_hidden_output = np.random.random((self.hidden_nodes, self.output_dim))\n",
    "    self.B_hidden_output = np.zeros((self.output_dim))\n",
    "\n",
    "    print(\"Input layer --> Hidden Layer\")\n",
    "    print(self.W_input_hidden.shape, self.B_input_hidden.shape)\n",
    "    print(self.W_input_hidden)\n",
    "    print()\n",
    "    print(\"Hidden Layer --> Output Layer\")\n",
    "    print(self.W_hidden_output.shape, self.B_hidden_output.shape)\n",
    "    print(self.W_hidden_output)\n",
    "    return\n",
    "\n",
    "\n",
    "FeedForwardNeuralNetwork(\n",
    "  train_data=center_surround_train_data,\n",
    "  test_data=center_surround_test_data,\n",
    "  valid_data=center_surround_valid_data,\n",
    "  input_dim=INPUT_DIM,\n",
    "  output_dim=OUTPUT_DIM,\n",
    "  hidden_nodes=HIDDEN_NODES,\n",
    "  learning_rate=LEARNING_RATE\n",
    ")"
   ]
  },
  {
   "cell_type": "code",
   "execution_count": null,
   "metadata": {},
   "outputs": [],
   "source": []
  }
 ],
 "metadata": {
  "kernelspec": {
   "display_name": "Python 3",
   "language": "python",
   "name": "python3"
  },
  "language_info": {
   "codemirror_mode": {
    "name": "ipython",
    "version": 3
   },
   "file_extension": ".py",
   "mimetype": "text/x-python",
   "name": "python",
   "nbconvert_exporter": "python",
   "pygments_lexer": "ipython3",
   "version": "3.9.6"
  }
 },
 "nbformat": 4,
 "nbformat_minor": 2
}
