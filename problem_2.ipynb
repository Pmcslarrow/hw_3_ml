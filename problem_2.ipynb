{
 "cells": [
  {
   "cell_type": "code",
   "execution_count": 171,
   "metadata": {},
   "outputs": [
    {
     "data": {
      "text/plain": [
       "<torch._C.Generator at 0x137e7c710>"
      ]
     },
     "execution_count": 171,
     "metadata": {},
     "output_type": "execute_result"
    }
   ],
   "source": [
    "from sklearn.preprocessing import StandardScaler\n",
    "import torch\n",
    "import torch.nn as nn\n",
    "from torch.utils.data import DataLoader\n",
    "\n",
    "import matplotlib\n",
    "import matplotlib.pyplot as plt\n",
    "import numpy as np\n",
    "import pandas as pd\n",
    "import sys\n",
    "import os\n",
    "from sklearn.preprocessing import MinMaxScaler\n",
    "\n",
    "import warnings\n",
    "warnings.filterwarnings('ignore')\n",
    "\n",
    "torch.manual_seed(42)"
   ]
  },
  {
   "cell_type": "code",
   "execution_count": 172,
   "metadata": {},
   "outputs": [],
   "source": [
    "def convert_df_to_tensors(df, scaler):\n",
    "  y = torch.tensor(df['label'].to_numpy(), dtype=torch.float32)\n",
    "  X = torch.tensor(scaler.transform(df.drop(columns=['label']).to_numpy()), dtype=torch.float32)\n",
    "  return X, y\n",
    "\n",
    "\"\"\" Center Surround Data \"\"\"\n",
    "center_surround_scaler = StandardScaler()\n",
    "center_surround_train_df = pd.read_csv(\"./center_surround_train.csv\")\n",
    "center_surround_test_df = pd.read_csv(\"./center_surround_test.csv\")\n",
    "center_surround_valid_df = pd.read_csv(\"./center_surround_valid.csv\")\n",
    "center_surround_scaler.fit(center_surround_train_df.drop(columns=['label']).to_numpy())\n",
    "center_surround_train_X, center_surround_train_y = convert_df_to_tensors(center_surround_train_df, center_surround_scaler)\n",
    "center_surround_test_X, center_surround_test_y = convert_df_to_tensors(center_surround_test_df, center_surround_scaler)\n",
    "center_surround_valid_X, center_surround_valid_y = convert_df_to_tensors(center_surround_valid_df, center_surround_scaler)\n",
    "\n",
    "\"\"\" Spiral Data \"\"\"\n",
    "spiral_scaler = StandardScaler()\n",
    "spiral_train_df = pd.read_csv(\"./spiral_train.csv\")\n",
    "spiral_test_df = pd.read_csv(\"./spiral_test.csv\")\n",
    "spiral_valid_df = pd.read_csv(\"./spiral_valid.csv\")\n",
    "spiral_scaler.fit(spiral_train_df.drop(columns=['label']).to_numpy())\n",
    "spiral_train_X, spiral_train_y = convert_df_to_tensors(spiral_train_df, spiral_scaler)\n",
    "spiral_test_X, spiral_test_y = convert_df_to_tensors(spiral_test_df, spiral_scaler)\n",
    "spiral_valid_X, spiral_valid_y = convert_df_to_tensors(spiral_valid_df, spiral_scaler)\n",
    "\n",
    "\n",
    "\"\"\" Two Gaussians Data \"\"\"\n",
    "two_gaussians_scaler = StandardScaler()\n",
    "two_gaussians_train_df = pd.read_csv(\"./two_gaussians_train.csv\")\n",
    "two_gaussians_test_df = pd.read_csv(\"./two_gaussians_test.csv\")\n",
    "two_gaussians_valid_df = pd.read_csv(\"./two_gaussians_valid.csv\")\n",
    "two_gaussians_scaler.fit(two_gaussians_train_df.drop(columns=['label']).to_numpy())\n",
    "two_gaussians_train_X, two_gaussians_train_y = convert_df_to_tensors(two_gaussians_train_df, two_gaussians_scaler)\n",
    "two_gaussians_test_X, two_gaussians_test_y = convert_df_to_tensors(two_gaussians_test_df, two_gaussians_scaler)\n",
    "two_gaussians_valid_X, two_gaussians_valid_y = convert_df_to_tensors(two_gaussians_valid_df, two_gaussians_scaler)\n",
    "\n",
    "\n",
    "\"\"\" XOR Data \"\"\"\n",
    "xor_scaler = StandardScaler()\n",
    "xor_train_df = pd.read_csv(\"./xor_train.csv\")\n",
    "xor_test_df = pd.read_csv(\"./xor_test.csv\")\n",
    "xor_valid_df = pd.read_csv(\"./xor_valid.csv\")\n",
    "xor_scaler.fit(xor_train_df.drop(columns=['label']).to_numpy())\n",
    "xor_train_X, xor_train_y = convert_df_to_tensors(xor_train_df, xor_scaler)\n",
    "xor_test_X, xor_test_y = convert_df_to_tensors(xor_test_df, xor_scaler)\n",
    "xor_valid_X, xor_valid_y = convert_df_to_tensors(xor_valid_df, xor_scaler)"
   ]
  },
  {
   "cell_type": "code",
   "execution_count": 173,
   "metadata": {},
   "outputs": [],
   "source": [
    "class SimpleModel(nn.Module):\n",
    "  def __init__(self, hidden_n):\n",
    "    super(SimpleModel, self).__init__()\n",
    "    self.hidden = nn.Linear(2, hidden_n)\n",
    "    self.output = nn.Linear(hidden_n, 1)\n",
    "\n",
    "  def forward(self, x):\n",
    "    x = torch.sigmoid(self.hidden(x))\n",
    "    x = torch.sigmoid(self.output(x))\n",
    "    return x"
   ]
  },
  {
   "cell_type": "code",
   "execution_count": 182,
   "metadata": {},
   "outputs": [
    {
     "name": "stdout",
     "output_type": "stream",
     "text": [
      "Center Surround\n",
      "Training Loss:  0.2776997685432434   Testing Loss:  0.25260376930236816 Test Accuracy:  0.5\n",
      "Training Loss:  0.25289207696914673   Testing Loss:  0.25851768255233765 Test Accuracy:  0.5\n",
      "Training Loss:  0.2519086003303528   Testing Loss:  0.25429409742355347 Test Accuracy:  0.5\n",
      "Training Loss:  0.25052598118782043   Testing Loss:  0.2519741654396057 Test Accuracy:  0.5\n",
      "Training Loss:  0.2500374913215637   Testing Loss:  0.2506546974182129 Test Accuracy:  0.5\n",
      "XOR\n",
      "Training Loss:  0.2951686382293701   Testing Loss:  0.24892860651016235 Test Accuracy:  0.54\n",
      "Training Loss:  0.24988967180252075   Testing Loss:  0.24890343844890594 Test Accuracy:  0.54\n",
      "Training Loss:  0.24996830523014069   Testing Loss:  0.24844425916671753 Test Accuracy:  0.54\n",
      "Training Loss:  0.25054237246513367   Testing Loss:  0.2561376392841339 Test Accuracy:  0.54\n",
      "Training Loss:  0.24739529192447662   Testing Loss:  0.24896271526813507 Test Accuracy:  0.54\n",
      "Spiral\n",
      "Training Loss:  0.25000956654548645   Testing Loss:  0.28862085938453674 Test Accuracy:  0.5\n",
      "Training Loss:  0.26356562972068787   Testing Loss:  0.25221386551856995 Test Accuracy:  0.5\n",
      "Training Loss:  0.2577666640281677   Testing Loss:  0.25238245725631714 Test Accuracy:  0.5\n",
      "Training Loss:  0.25548282265663147   Testing Loss:  0.25334107875823975 Test Accuracy:  0.5\n",
      "Training Loss:  0.25268641114234924   Testing Loss:  0.25285279750823975 Test Accuracy:  0.5\n",
      "Gaussian\n",
      "Training Loss:  0.2708890736103058   Testing Loss:  0.2568598985671997 Test Accuracy:  0.5\n",
      "Training Loss:  0.2562788426876068   Testing Loss:  0.2574992775917053 Test Accuracy:  0.5\n",
      "Training Loss:  0.25430038571357727   Testing Loss:  0.2534863352775574 Test Accuracy:  0.5\n",
      "Training Loss:  0.2524607479572296   Testing Loss:  0.25205567479133606 Test Accuracy:  0.5\n",
      "Training Loss:  0.2514205574989319   Testing Loss:  0.25126367807388306 Test Accuracy:  0.5\n"
     ]
    }
   ],
   "source": [
    "def calculate_accuracy(predictions, labels):\n",
    "  correct = 0\n",
    "  for i in range(len(predictions)):\n",
    "    prediction = 0.0 if predictions[i] < 0.5 else 1.0\n",
    "    if prediction == labels[i].item():\n",
    "      correct += 1\n",
    "  return correct / len(predictions)\n",
    "\n",
    "def train_model(X, y, test_X, test_y, hidden_nodes=32, learning_rate=0.05):\n",
    "  model = SimpleModel(hidden_n=hidden_nodes)\n",
    "  model.train()\n",
    "  loss_func = nn.MSELoss()\n",
    "  optimizer = torch.optim.Adam(model.parameters(), lr=learning_rate)\n",
    "\n",
    "  EPOCHS = 25\n",
    "  for epoch in range(EPOCHS):\n",
    "    optimizer.zero_grad()\n",
    "    model.train()\n",
    "    logits = model(X)\n",
    "    train_loss = loss_func(logits, y)\n",
    "\n",
    "    train_loss.backward()\n",
    "    optimizer.step()\n",
    "\n",
    "    model.eval()\n",
    "    with torch.no_grad():\n",
    "      test_logits = model(test_X)\n",
    "      test_loss = loss_func(test_logits, test_y)\n",
    "      test_accuracy = calculate_accuracy(test_logits, test_y)\n",
    "      if epoch % 5 == 0:\n",
    "        print(\"Training Loss: \", train_loss.item(), \"  Testing Loss: \", test_loss.item(), \"Test Accuracy: \", test_accuracy)\n",
    "\n",
    "print(\"Center Surround\")\n",
    "train_model(center_surround_train_X, center_surround_train_y, center_surround_test_X, center_surround_test_y)\n",
    "\n",
    "print(\"XOR\")\n",
    "train_model(xor_train_X, xor_train_y, xor_test_X, xor_test_y)\n",
    "\n",
    "print(\"Spiral\")\n",
    "train_model(spiral_train_X, spiral_train_y, spiral_test_X, spiral_test_y)\n",
    "\n",
    "print(\"Gaussian\")\n",
    "train_model(two_gaussians_train_X, two_gaussians_train_y, two_gaussians_test_X, two_gaussians_test_y)\n",
    "\n",
    "\n"
   ]
  }
 ],
 "metadata": {
  "kernelspec": {
   "display_name": "Python 3",
   "language": "python",
   "name": "python3"
  },
  "language_info": {
   "codemirror_mode": {
    "name": "ipython",
    "version": 3
   },
   "file_extension": ".py",
   "mimetype": "text/x-python",
   "name": "python",
   "nbconvert_exporter": "python",
   "pygments_lexer": "ipython3",
   "version": "3.9.6"
  }
 },
 "nbformat": 4,
 "nbformat_minor": 2
}
